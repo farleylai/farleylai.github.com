{
 "cells": [
  {
   "cell_type": "markdown",
   "metadata": {},
   "source": [
    "For the new year, my personal website builder migrates from JBake to Nikola which supports posts in the Jupyter notebook format.\n",
    "Yes, it is an era where mixing code and text in writings is common.\n",
    "In the past, people may choose to incorporate code segments in some formats such as markdown.\n",
    "However, it is still a text based document format not designed to run!\n",
    "Jupyter notebook comes to our rescue but a backend server is required.\n",
    "[Binder](https://mybinder.org) is likely the answer to playing with Jupyter notebooks hosted on GitHub on demand.\n",
    "Therefore, a static website turns into an interactive one just in a blink of eyes.\n",
    "\n",
    "What a Happy New Year!"
   ]
  }
 ],
 "metadata": {
  "kernelspec": {
   "display_name": "Python 3",
   "language": "python",
   "name": "python3"
  },
  "language_info": {
   "codemirror_mode": {
    "name": "ipython",
    "version": 3
   },
   "file_extension": ".py",
   "mimetype": "text/x-python",
   "name": "python",
   "nbconvert_exporter": "python",
   "pygments_lexer": "ipython3",
   "version": "3.6.2"
  },
  "nikola": {
   "category": "",
   "date": "2018-01-19 17:38:40 UTC-05:00",
   "description": "",
   "link": "",
   "slug": "new-year-2018",
   "tags": "",
   "title": "New Year 2018",
   "type": "text"
  }
 },
 "nbformat": 4,
 "nbformat_minor": 2
}
